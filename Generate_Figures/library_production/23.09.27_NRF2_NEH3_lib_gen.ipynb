{
 "cells": [
  {
   "cell_type": "code",
   "execution_count": null,
   "metadata": {},
   "outputs": [],
   "source": [
    "from library_maker import LibraryMaker"
   ]
  },
  {
   "cell_type": "code",
   "execution_count": null,
   "metadata": {},
   "outputs": [],
   "source": [
    "help(LibraryMaker.__init__)"
   ]
  },
  {
   "cell_type": "code",
   "execution_count": null,
   "metadata": {},
   "outputs": [],
   "source": [
    "# Making a library with all singles\n",
    "LibraryMaker('GAAGTTTTCAGCATGCTACGTGATGAAGATGGAAAACCTTATTCTCCTAGTGAATACTCCCTGCAGCAAACAAGAGATGGCAATGTTTTCCTTGTTCCCAAAAGTAAGAAGCCAGATGTTAAGAAAAAC', \n",
    "             single_mutants = True, \n",
    "             doubles_to_make = 0, \n",
    "             var_num = 3, wt_num = 100, max_tries = 100,\n",
    "             upstream_dna = 'AGCTCAGCACCTTATATCTC',\n",
    "             downstream_dna = 'tagggatccggggttggggt',out_path='./output/', name='NFE2L2_Neh3_singles', fig_width=8)"
   ]
  },
  {
   "cell_type": "code",
   "execution_count": null,
   "metadata": {},
   "outputs": [],
   "source": [
    "# Making a library with equal singles and doubles\n",
    "LibraryMaker('GAAGTTTTCAGCATGCTACGTGATGAAGATGGAAAACCTTATTCTCCTAGTGAATACTCCCTGCAGCAAACAAGAGATGGCAATGTTTTCCTTGTTCCCAAAAGTAAGAAGCCAGATGTTAAGAAAAAC', \n",
    "             single_mutants = True, \n",
    "             doubles_to_make = 'equal', \n",
    "             var_num = 3, wt_num = 100, max_tries = 100,\n",
    "             upstream_dna = 'AGCTCAGCACCTTATATCTC',\n",
    "             downstream_dna = 'tagggatccggggttggggt',out_path='./output/', name='NFE2L2_Neh3_equal', fig_width=8)"
   ]
  },
  {
   "cell_type": "code",
   "execution_count": null,
   "metadata": {},
   "outputs": [],
   "source": [
    "# Making a library with singles and enouigh doubles to make ~6k total oligos\n",
    "LibraryMaker('GAAGTTTTCAGCATGCTACGTGATGAAGATGGAAAACCTTATTCTCCTAGTGAATACTCCCTGCAGCAAACAAGAGATGGCAATGTTTTCCTTGTTCCCAAAAGTAAGAAGCCAGATGTTAAGAAAAAC', \n",
    "             single_mutants = True, \n",
    "             doubles_to_make = 'max:6000', \n",
    "             var_num = 3, wt_num = 100, max_tries = 100,\n",
    "             upstream_dna = 'AGCTCAGCACCTTATATCTC',\n",
    "             downstream_dna = 'tagggatccggggttggggt', out_path='./output/', name='NFE2L2_Neh3_double_pad_6k', fig_width=8)"
   ]
  },
  {
   "cell_type": "code",
   "execution_count": null,
   "metadata": {},
   "outputs": [],
   "source": [
    "# Making a library with 2000 random combinations centered at 3 mutants\n",
    "import numpy as np\n",
    "target = 'GAAGTTTTCAGCATGCTACGTGATGAAGATGGAAAACCTTATTCTCCTAGTGAATACTCCCTGCAGCAAACAAGAGATGGCAATGTTTTCCTTGTTCCCAAAAGTAAGAAGCCAGATGTTAAGAAAAAC'\n",
    "print(len(target))\n",
    "print(int(len(target)/3))\n",
    "LibraryMaker(target, \n",
    "            single_mutants = False, \n",
    "            doubles_to_make = 0,\n",
    "            focus_positions = np.arange(int(len(target)/3)), \n",
    "            focus_to_make=2000, \n",
    "            focus_mutants_per=3, \n",
    "            focus_mutants_per_spread=0.4,\n",
    "            focus_mutants_per_min=1,\n",
    "            focus_mutants_per_max=int(len(target)/3),\n",
    "            var_num = 3, wt_num = 100, max_tries = 100,\n",
    "            upstream_dna = 'AGCTCAGCACCTTATATCTC',\n",
    "            downstream_dna = 'tagggatccggggttggggt', out_path='./output/', name='NFE2L2_Neh3_full_random_combinations', fig_width=12)"
   ]
  },
  {
   "cell_type": "code",
   "execution_count": null,
   "metadata": {},
   "outputs": [],
   "source": [
    "# Making a library with singles at specific positions\n",
    "LibraryMaker('GAAGTTTTCAGCATGCTACGTGATGAAGATGGAAAACCTTATTCTCCTAGTGAATACTCCCTGCAGCAAACAAGAGATGGCAATGTTTTCCTTGTTCCCAAAAGTAAGAAGCCAGATGTTAAGAAAAAC', \n",
    "            single_mutants = False, \n",
    "            doubles_to_make = 0,\n",
    "            focus_positions = [3,5,10,33], \n",
    "            focus_to_make='singles', \n",
    "            focus_mutants_per=3, \n",
    "            focus_mutants_per_spread=0,\n",
    "            focus_mutants_per_min=0,\n",
    "            focus_mutants_per_max=0,\n",
    "            var_num = 3, wt_num = 100, max_tries = 100,\n",
    "            upstream_dna = 'AGCTCAGCACCTTATATCTC',\n",
    "            downstream_dna = 'tagggatccggggttggggt', out_path='./output/', name='NFE2L2_Neh3_focused_singles', fig_width=8)"
   ]
  },
  {
   "cell_type": "code",
   "execution_count": null,
   "metadata": {},
   "outputs": [],
   "source": [
    "# Making a library with doubles at specific positions\n",
    "LibraryMaker('GAAGTTTTCAGCATGCTACGTGATGAAGATGGAAAACCTTATTCTCCTAGTGAATACTCCCTGCAGCAAACAAGAGATGGCAATGTTTTCCTTGTTCCCAAAAGTAAGAAGCCAGATGTTAAGAAAAAC', \n",
    "            single_mutants = False, \n",
    "            doubles_to_make = 0,\n",
    "            focus_positions = [3,5,10,33], \n",
    "            focus_to_make='doubles', \n",
    "            focus_mutants_per=3, \n",
    "            focus_mutants_per_spread=0,\n",
    "            focus_mutants_per_min=0,\n",
    "            focus_mutants_per_max=0,\n",
    "            var_num = 3, wt_num = 100, max_tries = 100,\n",
    "            upstream_dna = 'AGCTCAGCACCTTATATCTC',\n",
    "            downstream_dna = 'tagggatccggggttggggt', out_path='./output/', name='NFE2L2_Neh3_focused_doubles', fig_width=8)"
   ]
  },
  {
   "cell_type": "code",
   "execution_count": null,
   "metadata": {},
   "outputs": [],
   "source": [
    "# Making a library with singles and doubles at specific positions\n",
    "LibraryMaker('GAAGTTTTCAGCATGCTACGTGATGAAGATGGAAAACCTTATTCTCCTAGTGAATACTCCCTGCAGCAAACAAGAGATGGCAATGTTTTCCTTGTTCCCAAAAGTAAGAAGCCAGATGTTAAGAAAAAC', \n",
    "            single_mutants = False, \n",
    "            doubles_to_make = 0,\n",
    "            focus_positions = [3,5,10,33], \n",
    "            focus_to_make='singles_doubles', \n",
    "            focus_mutants_per=3, \n",
    "            focus_mutants_per_spread=0,\n",
    "            focus_mutants_per_min=0,\n",
    "            focus_mutants_per_max=0,\n",
    "            var_num = 3, wt_num = 100, max_tries = 100,\n",
    "            upstream_dna = 'AGCTCAGCACCTTATATCTC',\n",
    "            downstream_dna = 'tagggatccggggttggggt', out_path='./output/', name='NFE2L2_Neh3_focused_singles_doubles', fig_width=8)"
   ]
  },
  {
   "cell_type": "code",
   "execution_count": null,
   "metadata": {},
   "outputs": [],
   "source": [
    "# Making a library with 2000 random combinations at specific positions centered on 3 mutants\n",
    "LibraryMaker('GAAGTTTTCAGCATGCTACGTGATGAAGATGGAAAACCTTATTCTCCTAGTGAATACTCCCTGCAGCAAACAAGAGATGGCAATGTTTTCCTTGTTCCCAAAAGTAAGAAGCCAGATGTTAAGAAAAAC', \n",
    "            single_mutants = False, \n",
    "            doubles_to_make = 0,\n",
    "            focus_positions = [3,5,10,33], \n",
    "            focus_to_make=2000, \n",
    "            focus_mutants_per=3, \n",
    "            focus_mutants_per_spread=0.4,\n",
    "            focus_mutants_per_min=1,\n",
    "            focus_mutants_per_max=4,\n",
    "            var_num = 3, wt_num = 100, max_tries = 100,\n",
    "            upstream_dna = 'AGCTCAGCACCTTATATCTC',\n",
    "            downstream_dna = 'tagggatccggggttggggt', out_path='./output/', name='NFE2L2_Neh3_focused_random_combinations', fig_width=8)"
   ]
  },
  {
   "cell_type": "code",
   "execution_count": null,
   "metadata": {},
   "outputs": [],
   "source": [
    "# Making a library with all combinations at specific positions\n",
    "LibraryMaker('GAAGTTTTCAGCATGCTACGTGATGAAGATGGAAAACCTTATTCTCCTAGTGAATACTCCCTGCAGCAAACAAGAGATGGCAATGTTTTCCTTGTTCCCAAAAGTAAGAAGCCAGATGTTAAGAAAAAC', \n",
    "            single_mutants = False, \n",
    "            doubles_to_make = 0,\n",
    "            focus_positions = [3,10,33], \n",
    "            focus_to_make='all', \n",
    "            focus_mutants_per=3, \n",
    "            focus_mutants_per_spread=0,\n",
    "            focus_mutants_per_min=0,\n",
    "            focus_mutants_per_max=0,\n",
    "            var_num = 3, wt_num = 100, max_tries = 100,\n",
    "            upstream_dna = 'AGCTCAGCACCTTATATCTC',\n",
    "            downstream_dna = 'tagggatccggggttggggt', out_path='./output/', name='NFE2L2_Neh3_focused_combinations', fig_width=8)"
   ]
  },
  {
   "cell_type": "code",
   "execution_count": null,
   "metadata": {},
   "outputs": [],
   "source": [
    "# Making a library with all singles, enough random doubles to make 1000 mutants, and 1000 random combinations in the second half\n",
    "# at specific positions centered on 5 mutants\n",
    "import numpy as np\n",
    "focus_target = np.arange(21,43)\n",
    "LibraryMaker('GAAGTTTTCAGCATGCTACGTGATGAAGATGGAAAACCTTATTCTCCTAGTGAATACTCCCTGCAGCAAACAAGAGATGGCAATGTTTTCCTTGTTCCCAAAAGTAAGAAGCCAGATGTTAAGAAAAAC', \n",
    "            single_mutants = True, \n",
    "            doubles_to_make = 'max:3000',\n",
    "            focus_positions = focus_target, \n",
    "            focus_to_make=1000, \n",
    "            focus_mutants_per=5, \n",
    "            focus_mutants_per_spread=0.4,\n",
    "            focus_mutants_per_min=1,\n",
    "            focus_mutants_per_max=len(focus_target),\n",
    "            var_num = 3, wt_num = 100, max_tries = 100,\n",
    "            upstream_dna = 'AGCTCAGCACCTTATATCTC',\n",
    "            downstream_dna = 'tagggatccggggttggggt', out_path='./output/', name='NFE2L2_Neh3_focused_random_combinations', fig_width=8)"
   ]
  },
  {
   "cell_type": "code",
   "execution_count": null,
   "metadata": {},
   "outputs": [],
   "source": []
  }
 ],
 "metadata": {
  "kernelspec": {
   "display_name": "c_vakoc_lib",
   "language": "python",
   "name": "python3"
  },
  "language_info": {
   "codemirror_mode": {
    "name": "ipython",
    "version": 3
   },
   "file_extension": ".py",
   "mimetype": "text/x-python",
   "name": "python",
   "nbconvert_exporter": "python",
   "pygments_lexer": "ipython3",
   "version": "3.9.16"
  },
  "varInspector": {
   "cols": {
    "lenName": 16,
    "lenType": 16,
    "lenVar": 40
   },
   "kernels_config": {
    "python": {
     "delete_cmd_postfix": "",
     "delete_cmd_prefix": "del ",
     "library": "var_list.py",
     "varRefreshCmd": "print(var_dic_list())"
    },
    "r": {
     "delete_cmd_postfix": ") ",
     "delete_cmd_prefix": "rm(",
     "library": "var_list.r",
     "varRefreshCmd": "cat(var_dic_list()) "
    }
   },
   "types_to_exclude": [
    "module",
    "function",
    "builtin_function_or_method",
    "instance",
    "_Feature"
   ],
   "window_display": false
  }
 },
 "nbformat": 4,
 "nbformat_minor": 4
}
